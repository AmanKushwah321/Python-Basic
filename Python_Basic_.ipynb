{
  "nbformat": 4,
  "nbformat_minor": 0,
  "metadata": {
    "colab": {
      "provenance": []
    },
    "kernelspec": {
      "name": "python3",
      "display_name": "Python 3"
    },
    "language_info": {
      "name": "python"
    }
  },
  "cells": [
    {
      "cell_type": "markdown",
      "source": [
        "#1. What is Python, and why is it Popular?\n",
        "- Python is a programming language that is super easy to use, kinda like writing instructions in simple English. we can use it for tons of stuff, like analyzing data or making websites.\n",
        "- It is beginner friendly, so we do not feel lost. Plus, it is got a lot of ready to use tools, like libraries, that make coding faster. Everyone from students to big companies loves it because it works for almost anything.\n",
        "\n",
        "#2. What is an interpreter in Python?\n",
        "- An interpreter is like Python helper that reads our code line by line and runs it right away. For example, if we write print(\"Hi\"), it sees that line and shows “Hi” instantly. It is different from some languages that wait to process everything at once. This makes it great for testing small bits of code quickly.\n",
        "\n",
        "#3. What are pre-defined keywords in Python?\n",
        "- Keywords are special words in Python that have a specific job, like telling Python what to do. Think of words like if, else, for, or True. They are built into Python, so we can not use them for other things, like naming our variables. They are like reserved seats.\n",
        "\n",
        "#4. Can keywords be used as variable names?\n",
        "- No, we can not use keywords as variable names. Words like if or while are reserved for Python is own use.If we try something like for = 10, Python will get mad and throw an error. Just pick a different name, like my_count or something.\n",
        "\n",
        "#5. What is mutability in Python?\n",
        "- Mutability is about whether we can change an object after we make it. Some things, like lists, are mutable, so we can add or remove stuff. Others, like strings or tuples, are immutable, meaning they are locked we can not tweak them without making a new one. It is like editing a notebook versus a printed book.\n",
        "\n",
        "#6. Why are lists mutable, but tuples are immutable?\n",
        "- Lists are mutable because they are meant to be flexible. we can add items, like\n",
        "  my_list = [1, 2];\n",
        "  my_list.append(3)\n",
        "  and it is still the same list. Tuples, though, are immutable, so once we set my_tuple = (1, 2), we can not change it. Tuples are like a safety lock for data that should not be messed with, like fixed settings, while lists are for stuff we might update.\n",
        "\n",
        "#7. What is the difference between \"==\" and \"is\" operators in Python?\n",
        "- == checks if two things have the same value. Like, 5 == 5 is true, or [1, 2] == [1, 2] is true because the contents match. But is checks if they are the exact same object in memory. So, if we have two lists with the same values, a = [1, 2]; b = [1, 2], then a == b is true, but a is b is false because they are different objects. Use == for values, is for checking if it is the same thing.\n",
        "\n",
        "#8. What are logical operators in Python?\n",
        "- Logical operators are like little helpers for combining conditions. There is and (true if both sides are true, like 5 > 3 and 2 < 4), or (true if at least one side is true, like 5 > 3 or 2 > 5), and not (flips the truth, like not True is false). They are super useful in if statements when we need to check multiple things.\n",
        "\n",
        "#9. What is type casting in Python?\n",
        "- Type casting is when we switch a value from one type to another. Like, if we have the number 5, we can turn it into a string with str(5), so it is \"5\". Or turn a string \"10\" into a number with int(\"10\"). It is handy when we need to use data in a different way, like adding numbers that were stored as text.\n",
        "\n",
        "#10. What is the difference between implicit and explicit type casting?\n",
        "- Implicit casting is when Python does the work for we. Like, if we add 5 (an integer) and 2.5 (a float), Python turns 5 into a float automatically, and we get 7.5. Explicit casting is when we tell Python to change the type, like using int(\"10\") to make the string \"10\" a number. So, implicit is Python is choice; explicit is our choice.\n",
        "\n",
        "#11. What is the purpose of conditional statements in Python?\n",
        "- Conditional statements, like if, elif, and else, help our program decide what to do based on conditions. For example, if marks > 60: print(\"Pass\") only prints “Pass” if the condition is true. They are like giving our code a brain to pick different paths depending on the situation.\n",
        "\n",
        "#12.  How does the elif statement work?\n",
        "- The elif is like a backup if. If the first if condition fails, Python checks the elif.\n",
        "Example:\n",
        "marks = 75\n",
        "if marks >= 90:\n",
        "    print(\"Greater then or equal to 90\")\n",
        "elif marks >= 70:\n",
        "    print(\"Greater then or equal to 70\")\n",
        "else:\n",
        "    print(\"Less than 69\")\n",
        "\n",
        "Since marks is 75, the if fails, but elif marks >= 70 is true, so it prints “Greater then or equal to 70”. It is for testing extra conditions.\n",
        "\n",
        "#13.  What is the difference between for and while loops?\n",
        "- A for loop is for when we know how many times we want to repeat something, like going through a list: for i in range(3): print(i) prints 0, 1, 2.\n",
        "A while loop keeps going as long as a condition is true, like count = 0; while count < 3: print(count); count += 1. Use for when we have a set number of loops, and while when it depends on a condition.\n",
        "\n",
        "#14. Describe a scenario where a while loop is more suitable than a for loop.\n",
        "- A while loop is great when we do not know how many times we will need to loop. Imagine a game where a player guesses a number until they get it right:  \n",
        "\n",
        "x = 0\n",
        "while x != 7:\n",
        "    x = int(input(\"x a number: \"))\n",
        "print(\"got it!\")\n",
        "\n",
        "A while loop works here because we do not know how many guesses they will take. A for loop would not fit since we can not predict the number of tries.\n"
      ],
      "metadata": {
        "id": "wcZZr_fHZ50y"
      }
    },
    {
      "cell_type": "markdown",
      "source": [
        "# Practical Questions"
      ],
      "metadata": {
        "id": "9COPDzZXuD_Y"
      }
    },
    {
      "cell_type": "markdown",
      "source": [
        "#1. Write a Python program to print \"Hello, World!\""
      ],
      "metadata": {
        "id": "qO1e5tnhujTL"
      }
    },
    {
      "cell_type": "code",
      "source": [
        "print(\"Hello, World!\")"
      ],
      "metadata": {
        "colab": {
          "base_uri": "https://localhost:8080/"
        },
        "id": "Bz9_-ZIgui0p",
        "outputId": "05364af6-b867-4d1b-8457-3c1863918f42"
      },
      "execution_count": 7,
      "outputs": [
        {
          "output_type": "stream",
          "name": "stdout",
          "text": [
            "Hello, World!\n"
          ]
        }
      ]
    },
    {
      "cell_type": "markdown",
      "source": [
        "#2. Write a Python program that displays your name and age?"
      ],
      "metadata": {
        "id": "DPn5kcAcu4gm"
      }
    },
    {
      "cell_type": "code",
      "source": [
        "#Program to show my name and age\n",
        "name = \"Aman\"  #My name\n",
        "age = 29  #You can change this to your age\n",
        "print(\"My name is\", name, \"and I am\", age, \"years old\")"
      ],
      "metadata": {
        "colab": {
          "base_uri": "https://localhost:8080/"
        },
        "id": "fumhe-pou3_C",
        "outputId": "4788ed97-5290-4fcf-f652-96c08aee150b"
      },
      "execution_count": 8,
      "outputs": [
        {
          "output_type": "stream",
          "name": "stdout",
          "text": [
            "My name is Aman and I am 29 years old\n"
          ]
        }
      ]
    },
    {
      "cell_type": "markdown",
      "source": [
        "#3. Write code to print all the pre-defined keywords in Python using the keyword library?"
      ],
      "metadata": {
        "id": "tcrlEI9_v30H"
      }
    },
    {
      "cell_type": "code",
      "source": [
        "#Program to print all Python keywords\n",
        "import keyword\n",
        "print(\"Python keywords are:\")\n",
        "print(keyword.kwlist)  #Prints the list of keywords"
      ],
      "metadata": {
        "colab": {
          "base_uri": "https://localhost:8080/"
        },
        "id": "avsw-bXzuAfl",
        "outputId": "71c476d9-d0f2-421d-f7e8-f8d55d0b9244"
      },
      "execution_count": 9,
      "outputs": [
        {
          "output_type": "stream",
          "name": "stdout",
          "text": [
            "Python keywords are:\n",
            "['False', 'None', 'True', 'and', 'as', 'assert', 'async', 'await', 'break', 'class', 'continue', 'def', 'del', 'elif', 'else', 'except', 'finally', 'for', 'from', 'global', 'if', 'import', 'in', 'is', 'lambda', 'nonlocal', 'not', 'or', 'pass', 'raise', 'return', 'try', 'while', 'with', 'yield']\n"
          ]
        }
      ]
    },
    {
      "cell_type": "markdown",
      "source": [
        "#4. Write a program that checks if a given word is a Python keyword?"
      ],
      "metadata": {
        "id": "T-V9IiwcwhTd"
      }
    },
    {
      "cell_type": "code",
      "source": [
        "#Program to check if a word is a Python keyword\n",
        "import keyword\n",
        "word = input(\"Enter a word: \")\n",
        "if word in keyword.kwlist:\n",
        "    print(word, \"is a Python keyword\")\n",
        "else:\n",
        "    print(word, \"is not a Python keyword\")"
      ],
      "metadata": {
        "colab": {
          "base_uri": "https://localhost:8080/"
        },
        "id": "Jip8h0ftwqSP",
        "outputId": "95a0ec2a-1005-4273-c953-aaff9b3fd1a6"
      },
      "execution_count": 10,
      "outputs": [
        {
          "output_type": "stream",
          "name": "stdout",
          "text": [
            "Enter a word: for\n",
            "for is a Python keyword\n"
          ]
        }
      ]
    },
    {
      "cell_type": "markdown",
      "source": [],
      "metadata": {
        "id": "BUx71TTJxrSr"
      }
    },
    {
      "cell_type": "markdown",
      "source": [
        "#5. Create a list and tuple in Python, and demonstrate how attempting to change an element works differently for each."
      ],
      "metadata": {
        "id": "egTFNYqyxFwD"
      }
    },
    {
      "cell_type": "code",
      "source": [
        "#Program to show list and tuple mutability\n",
        "my_list = [1, 2, 3]  #Create list\n",
        "my_tuple = (1, 2, 3)  #Create tuple\n",
        "\n",
        "print(\"Original list:\", my_list)\n",
        "my_list[0] = 10  #Change first item in list\n",
        "print(\"Changed list:\", my_list)  #Works fine\n",
        "\n",
        "print(\"Original tuple:\", my_tuple)\n",
        "# my_tuple[0] = 10  #This will cause an error\n",
        "print(\"Tuple cannot be changed.\")  #Tuple stays the same"
      ],
      "metadata": {
        "colab": {
          "base_uri": "https://localhost:8080/"
        },
        "id": "EYC-jmQZxUOo",
        "outputId": "735c7ec2-c5f6-4c1c-c743-0331b4552657"
      },
      "execution_count": 12,
      "outputs": [
        {
          "output_type": "stream",
          "name": "stdout",
          "text": [
            "Original list: [1, 2, 3]\n",
            "Changed list: [10, 2, 3]\n",
            "Original tuple: (1, 2, 3)\n",
            "Tuple cannot be changed.\n"
          ]
        }
      ]
    },
    {
      "cell_type": "markdown",
      "source": [
        "#6. Write a function to demonstrate the behavior of mutable and immutable arguments?"
      ],
      "metadata": {
        "id": "bCObHsIWx0AI"
      }
    },
    {
      "cell_type": "code",
      "source": [
        "#Program to show mutable vs immutable in functions\n",
        "def change_values(my_list, my_number):\n",
        "    my_list[0] = 100  #Change list(mutable)\n",
        "    my_number = 200   #Try to change number(immutable)\n",
        "    print(\"Inside function - List:\", my_list, \"Number:\", my_number)"
      ],
      "metadata": {
        "id": "lS1hjVIjx337"
      },
      "execution_count": 16,
      "outputs": []
    },
    {
      "cell_type": "markdown",
      "source": [
        "#7. Write a program that performs basic arithmetic operations on two user-input numbers?"
      ],
      "metadata": {
        "id": "b7_ZHOF6yWZm"
      }
    },
    {
      "cell_type": "code",
      "source": [
        "# Program for basic arithmetic operations\n",
        "num1 = float(input(\"Enter first number: \"))  # Get first number\n",
        "num2 = float(input(\"Enter second number: \"))  # Get second number\n",
        "print(\"Add:\", num1 + num2)\n",
        "print(\"Sub:\", num1 - num2)\n",
        "print(\"Mul:\", num1 * num2)\n",
        "if num2 != 0:\n",
        "    print(\"Div4:\", num1 / num2)\n",
        "else:\n",
        "    print(\"Cannot divide by zero!\")"
      ],
      "metadata": {
        "colab": {
          "base_uri": "https://localhost:8080/"
        },
        "id": "nVF9SAj_yJ3-",
        "outputId": "be626187-14dd-4c16-bbda-a5b748e4e41e"
      },
      "execution_count": 19,
      "outputs": [
        {
          "output_type": "stream",
          "name": "stdout",
          "text": [
            "Enter first number: 2.6\n",
            "Enter second number: 4.7\n",
            "Add: 7.300000000000001\n",
            "Sub: -2.1\n",
            "Mul: 12.22\n",
            "Div: 0.5531914893617021\n"
          ]
        }
      ]
    },
    {
      "cell_type": "markdown",
      "source": [
        "#8. Write a program to demonstrate the use of logical operators?"
      ],
      "metadata": {
        "id": "lWaK7ll3zEJg"
      }
    },
    {
      "cell_type": "code",
      "source": [
        "# Program to show logical operators\n",
        "# Using and, or, not\n",
        "a = 10\n",
        "b = 5\n",
        "c = 15\n",
        "print(\"Is a > b and b < c?\", a > b and b < c)  # True if both are true\n",
        "print(\"Is a < b or b < c?\", a < b or b < c)    # True if at least one is true\n",
        "print(\"Is a not equal to b?\", not a == b)      # True if condition is false"
      ],
      "metadata": {
        "colab": {
          "base_uri": "https://localhost:8080/"
        },
        "id": "malca3xWzQOH",
        "outputId": "057f9d0b-af27-4bbf-bfd2-544c2beb8755"
      },
      "execution_count": 20,
      "outputs": [
        {
          "output_type": "stream",
          "name": "stdout",
          "text": [
            "Is a > b and b < c? True\n",
            "Is a < b or b < c? True\n",
            "Is a not equal to b? True\n"
          ]
        }
      ]
    },
    {
      "cell_type": "markdown",
      "source": [
        "#9. Write a Python program to convert user input from string to integer, float, and boolean types?"
      ],
      "metadata": {
        "id": "6HPAas0wzfBz"
      }
    },
    {
      "cell_type": "code",
      "source": [
        "#Program to convert string input to different types\n",
        "number_str = input(\"Enter a number: \")\n",
        "print(\"As integer:\", int(number_str))  #Convert to integer\n",
        "print(\"As float:\", float(number_str))  #Convert to float\n",
        "\n",
        "bool_str = input(\"Enter 'True' or 'False': \")\n",
        "print(\"As boolean:\", bool_str.lower() == \"true\")  #Convert to boolean"
      ],
      "metadata": {
        "colab": {
          "base_uri": "https://localhost:8080/"
        },
        "id": "r4H_yXmmzjG3",
        "outputId": "a9d7d114-d763-429d-8a15-db0941b84acd"
      },
      "execution_count": 21,
      "outputs": [
        {
          "output_type": "stream",
          "name": "stdout",
          "text": [
            "Enter a number: 5\n",
            "As integer: 5\n",
            "As float: 5.0\n",
            "Enter 'True' or 'False': 1\n",
            "As boolean: False\n"
          ]
        }
      ]
    },
    {
      "cell_type": "markdown",
      "source": [
        "#10. Write code to demonstrate type casting with list elements?"
      ],
      "metadata": {
        "id": "YTKQEErLzyNI"
      }
    },
    {
      "cell_type": "code",
      "source": [
        "# Program to show type casting with list elements\n",
        "my_list = [\"10\", \"3.14\", \"25\"]  #List of strings\n",
        "print(\"Original list:\", my_list)\n",
        "#Convert elements\n",
        "int_value = int(my_list[0])      # String \"10\" to integer\n",
        "float_value = float(my_list[1])  # String \"3.14\" to float\n",
        "str_value = str(int(my_list[2])) # String \"25\" to string (already is)\n",
        "\n",
        "print(\"After casting - Integer:\", int_value, \"Float:\", float_value, \"String:\", str_value)\n"
      ],
      "metadata": {
        "colab": {
          "base_uri": "https://localhost:8080/"
        },
        "id": "X90q9DRlz5uc",
        "outputId": "911acb7e-cccb-41f4-f8d0-f0b387b69eec"
      },
      "execution_count": 22,
      "outputs": [
        {
          "output_type": "stream",
          "name": "stdout",
          "text": [
            "Original list: ['10', '3.14', '25']\n",
            "After casting - Integer: 10 Float: 3.14 String: 25\n"
          ]
        }
      ]
    },
    {
      "cell_type": "markdown",
      "source": [
        "#11. Write a program that checks if a number is positive, negative, or zero?"
      ],
      "metadata": {
        "id": "3Dlu-hlt0JOs"
      }
    },
    {
      "cell_type": "code",
      "source": [
        "# Program to check if a number is positive, negative, or zero\n",
        "number = float(input(\"Enter a number: \"))\n",
        "if number > 0:\n",
        "    print(number, \"is positive\")\n",
        "elif number < 0:\n",
        "    print(number, \"is negative\")\n",
        "else:\n",
        "    print(number, \"is zero\")"
      ],
      "metadata": {
        "colab": {
          "base_uri": "https://localhost:8080/"
        },
        "id": "7pzL_6SS0O42",
        "outputId": "3aa6567f-17ee-4c20-93a1-8d21562387b6"
      },
      "execution_count": 24,
      "outputs": [
        {
          "output_type": "stream",
          "name": "stdout",
          "text": [
            "Enter a number: -6.5\n",
            "-6.5 is negative\n"
          ]
        }
      ]
    },
    {
      "cell_type": "markdown",
      "source": [
        "#12. Write a for loop to print numbers from 1 to 10?"
      ],
      "metadata": {
        "id": "EaiREb7k0Zz-"
      }
    },
    {
      "cell_type": "code",
      "source": [
        "#Program to print numbers 1 to 10 using for loop\n",
        "for i in range(1, 11):\n",
        "    print(i)"
      ],
      "metadata": {
        "colab": {
          "base_uri": "https://localhost:8080/"
        },
        "id": "CHV_72Tz0bsq",
        "outputId": "80fc35d2-382b-4f07-cadb-802e205539b6"
      },
      "execution_count": 26,
      "outputs": [
        {
          "output_type": "stream",
          "name": "stdout",
          "text": [
            "1\n",
            "2\n",
            "3\n",
            "4\n",
            "5\n",
            "6\n",
            "7\n",
            "8\n",
            "9\n",
            "10\n"
          ]
        }
      ]
    },
    {
      "cell_type": "markdown",
      "source": [
        "#13. Write a Python program to find the sum of all even numbers between 1 and 50?"
      ],
      "metadata": {
        "id": "x9X6vup70nhL"
      }
    },
    {
      "cell_type": "code",
      "source": [
        "# Program to sum even numbers from 1 to 50\n",
        "total = 0\n",
        "for num in range(2, 51, 2):\n",
        "    total += num\n",
        "print(\"Sum of even numbers from 1 to 50 is:\", total)"
      ],
      "metadata": {
        "colab": {
          "base_uri": "https://localhost:8080/"
        },
        "id": "zsnahFd_0p0l",
        "outputId": "2faf6969-eaa6-4a16-f481-357c30b58c20"
      },
      "execution_count": 27,
      "outputs": [
        {
          "output_type": "stream",
          "name": "stdout",
          "text": [
            "Sum of even numbers from 1 to 50 is: 650\n"
          ]
        }
      ]
    },
    {
      "cell_type": "markdown",
      "source": [
        "#14. Write a program to reverse a string using a while loop?"
      ],
      "metadata": {
        "id": "02tjvbth0yEE"
      }
    },
    {
      "cell_type": "code",
      "source": [
        "#Program to reverse a string using while loop\n",
        "text = input(\"Enter a string: \")\n",
        "reversed_text = \"\"\n",
        "index = len(text) - 1  #Start from last character\n",
        "while index >= 0:\n",
        "    reversed_text += text[index]  #Add character to new string\n",
        "    index -= 1\n",
        "print(\"Reversed string:\", reversed_text)"
      ],
      "metadata": {
        "colab": {
          "base_uri": "https://localhost:8080/"
        },
        "id": "FFIzMelQ02eY",
        "outputId": "2aa69d6f-1b39-4713-9801-dab52d25c0c4"
      },
      "execution_count": 28,
      "outputs": [
        {
          "output_type": "stream",
          "name": "stdout",
          "text": [
            "Enter a string: aman\n",
            "Reversed string: nama\n"
          ]
        }
      ]
    }
  ]
}