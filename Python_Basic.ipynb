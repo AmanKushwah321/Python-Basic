{
  "nbformat": 4,
  "nbformat_minor": 0,
  "metadata": {
    "colab": {
      "provenance": []
    },
    "kernelspec": {
      "name": "python3",
      "display_name": "Python 3"
    },
    "language_info": {
      "name": "python"
    }
  },
  "cells": [
    {
      "cell_type": "markdown",
      "source": [
        "#1. What is Python, and why is it Popular?\n",
        "- Python is a programming language that is super easy to use, kinda like writing instructions in simple English. we can use it for tons of stuff, like analyzing data or making websites.\n",
        "- It is beginner friendly, so we do not feel lost. Plus, it is got a lot of ready to use tools, like libraries, that make coding faster. Everyone from students to big companies loves it because it works for almost anything.\n",
        "\n",
        "#2. What is an interpreter in Python?\n",
        "- An interpreter is like Python helper that reads our code line by line and runs it right away. For example, if we write print(\"Hi\"), it sees that line and shows “Hi” instantly. It is different from some languages that wait to process everything at once. This makes it great for testing small bits of code quickly.\n",
        "\n",
        "#3. What are pre-defined keywords in Python?\n",
        "- Keywords are special words in Python that have a specific job, like telling Python what to do. Think of words like if, else, for, or True. They are built into Python, so we can not use them for other things, like naming our variables. They are like reserved seats.\n",
        "\n",
        "#4. Can keywords be used as variable names?\n",
        "- No, we can not use keywords as variable names. Words like if or while are reserved for Python is own use.If we try something like for = 10, Python will get mad and throw an error. Just pick a different name, like my_count or something.\n",
        "\n",
        "#5. What is mutability in Python?\n",
        "- Mutability is about whether we can change an object after we make it. Some things, like lists, are mutable, so we can add or remove stuff. Others, like strings or tuples, are immutable, meaning they are locked we can not tweak them without making a new one. It is like editing a notebook versus a printed book.\n",
        "\n",
        "#6. Why are lists mutable, but tuples are immutable?\n",
        "- Lists are mutable because they are meant to be flexible. we can add items, like\n",
        "  my_list = [1, 2];\n",
        "  my_list.append(3)\n",
        "  and it is still the same list. Tuples, though, are immutable, so once we set my_tuple = (1, 2), we can not change it. Tuples are like a safety lock for data that should not be messed with, like fixed settings, while lists are for stuff we might update.\n",
        "\n",
        "#7. What is the difference between \"==\" and \"is\" operators in Python?\n",
        "- == checks if two things have the same value. Like, 5 == 5 is true, or [1, 2] == [1, 2] is true because the contents match. But is checks if they are the exact same object in memory. So, if we have two lists with the same values, a = [1, 2]; b = [1, 2], then a == b is true, but a is b is false because they are different objects. Use == for values, is for checking if it is the same thing.\n",
        "\n",
        "#8. What are logical operators in Python?\n",
        "- Logical operators are like little helpers for combining conditions. There is and (true if both sides are true, like 5 > 3 and 2 < 4), or (true if at least one side is true, like 5 > 3 or 2 > 5), and not (flips the truth, like not True is false). They are super useful in if statements when we need to check multiple things.\n",
        "\n",
        "#9. What is type casting in Python?\n",
        "- Type casting is when we switch a value from one type to another. Like, if we have the number 5, we can turn it into a string with str(5), so it is \"5\". Or turn a string \"10\" into a number with int(\"10\"). It is handy when we need to use data in a different way, like adding numbers that were stored as text.\n",
        "\n",
        "#10. What is the difference between implicit and explicit type casting?\n",
        "- Implicit casting is when Python does the work for we. Like, if we add 5 (an integer) and 2.5 (a float), Python turns 5 into a float automatically, and we get 7.5. Explicit casting is when we tell Python to change the type, like using int(\"10\") to make the string \"10\" a number. So, implicit is Python is choice; explicit is our choice.\n",
        "\n",
        "#11. What is the purpose of conditional statements in Python?\n",
        "- Conditional statements, like if, elif, and else, help our program decide what to do based on conditions. For example, if marks > 60: print(\"Pass\") only prints “Pass” if the condition is true. They are like giving our code a brain to pick different paths depending on the situation.\n",
        "\n",
        "#12.  How does the elif statement work?\n",
        "- The elif is like a backup if. If the first if condition fails, Python checks the elif.\n",
        "Example:\n",
        "marks = 75\n",
        "if marks >= 90:\n",
        "    print(\"Greater then or equal to 90\")\n",
        "elif marks >= 70:\n",
        "    print(\"Greater then or equal to 70\")\n",
        "else:\n",
        "    print(\"Less than 69\")\n",
        "\n",
        "Since marks is 75, the if fails, but elif marks >= 70 is true, so it prints “Greater then or equal to 70”. It is for testing extra conditions.\n",
        "\n",
        "#13.  What is the difference between for and while loops?\n",
        "- A for loop is for when we know how many times we want to repeat something, like going through a list: for i in range(3): print(i) prints 0, 1, 2.\n",
        "A while loop keeps going as long as a condition is true, like count = 0; while count < 3: print(count); count += 1. Use for when we have a set number of loops, and while when it depends on a condition.\n",
        "\n",
        "#14. Describe a scenario where a while loop is more suitable than a for loop.\n",
        "- A while loop is great when we do not know how many times we will need to loop. Imagine a game where a player guesses a number until they get it right:  \n",
        "\n",
        "x = 0\n",
        "while x != 7:\n",
        "    x = int(input(\"x a number: \"))\n",
        "print(\"got it!\")\n",
        "\n",
        "A while loop works here because we do not know how many guesses they will take. A for loop would not fit since we can not predict the number of tries.\n"
      ],
      "metadata": {
        "id": "wcZZr_fHZ50y"
      }
    }
  ]
}